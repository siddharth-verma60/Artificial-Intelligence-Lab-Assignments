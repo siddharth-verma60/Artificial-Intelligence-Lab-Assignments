{
 "cells": [
  {
   "cell_type": "markdown",
   "metadata": {},
   "source": [
    "## Goat-Wolf-Cabbage-Farmer Problem"
   ]
  },
  {
   "cell_type": "markdown",
   "metadata": {},
   "source": [
    "For this problem, we write a program to implement depth-first search, in order to solve the following logic puzzle concerning a man, wolf, goat, cabbage. The problem is how to transport a man, wolf, goat, cabbage from one side of a river to the other in a boat which can hold at most 2 other items (i.e. the man and 2 other items), and which requires the man to pilot the boat -- hence the man can go alone or can go along with either the wolf, goat, or cabbage (i.e. man carries one item), or the man can go along with either (wolf,goat), or (wolf, cabbage), or (goat,cabbage). If wolf-goat or goat-cabbage are left alone without the presence of the man, then one is devoured. However, if the man brings, for instance, the goat and wolf in the boat, then during the traversal of the river, he can prevent the wolf from devouring the goat.\n",
    "\n",
    "The program should specify the sequence of moves (or of the inhabitants of both banks of the river) which will move all 4 from the left side to the right side of the river, without any being devoured.\n",
    "\n"
   ]
  },
  {
   "cell_type": "code",
   "execution_count": 75,
   "metadata": {},
   "outputs": [
    {
     "data": {
      "text/plain": [
       "goal_reach (generic function with 1 method)"
      ]
     },
     "execution_count": 75,
     "metadata": {},
     "output_type": "execute_result"
    }
   ],
   "source": [
    "function goal_reach(state)\n",
    "    return state==[1,1,1,1]\n",
    "end"
   ]
  },
  {
   "cell_type": "code",
   "execution_count": 76,
   "metadata": {},
   "outputs": [
    {
     "data": {
      "text/plain": [
       "move (generic function with 1 method)"
      ]
     },
     "execution_count": 76,
     "metadata": {},
     "output_type": "execute_result"
    }
   ],
   "source": [
    "function move(state, character)\n",
    "    if state[character]==0\n",
    "        state[character]=1\n",
    "    else\n",
    "        state[character]=0\n",
    "    end\n",
    "end"
   ]
  },
  {
   "cell_type": "code",
   "execution_count": 77,
   "metadata": {},
   "outputs": [
    {
     "data": {
      "text/plain": [
       "check_safe_child (generic function with 1 method)"
      ]
     },
     "execution_count": 77,
     "metadata": {},
     "output_type": "execute_result"
    }
   ],
   "source": [
    "function is_safe(child)\n",
    "    # Is man with goat?\n",
    "    if child[1]==child[2]\n",
    "        return true\n",
    "    # Is goat with wolf?    \n",
    "    elseif child[2]==child[3]\n",
    "        return false\n",
    "    # Is goat with cabbage?\n",
    "    elseif child[2]==child[4]\n",
    "        return false\n",
    "    else\n",
    "        return true\n",
    "    end\n",
    "end\n",
    "\n",
    "function check_safe_child(children, child)\n",
    "    if is_safe(child)\n",
    "        push!(children, child)\n",
    "    end\n",
    "    return children\n",
    "end"
   ]
  },
  {
   "cell_type": "code",
   "execution_count": 78,
   "metadata": {},
   "outputs": [
    {
     "data": {
      "text/plain": [
       "expand_state (generic function with 1 method)"
      ]
     },
     "execution_count": 78,
     "metadata": {},
     "output_type": "execute_result"
    }
   ],
   "source": [
    "function expand_state(state)\n",
    "    child_nodes=[]\n",
    "    child=copy(state)\n",
    "    \n",
    "    #Man has the ability to move alone\n",
    "    move(child, 1)\n",
    "    check_safe_child(child_nodes, child)\n",
    "    \n",
    "    # For each entity: Goat, Wolf, Cabbage\n",
    "    for i in 2:4\n",
    "        # If the entity is on the same side of the man, then move the entity as well as man.\n",
    "        if state[i]==state[1]\n",
    "            child=copy(state)\n",
    "            move(child,1)\n",
    "            move(child,i)\n",
    "            check_safe_child(child_nodes, child)\n",
    "        end\n",
    "    end\n",
    "    \n",
    "    return child_nodes\n",
    "end"
   ]
  },
  {
   "cell_type": "code",
   "execution_count": 79,
   "metadata": {},
   "outputs": [
    {
     "data": {
      "text/plain": [
       "solution_path (generic function with 1 method)"
      ]
     },
     "execution_count": 79,
     "metadata": {},
     "output_type": "execute_result"
    }
   ],
   "source": [
    "function solution_path(initial_state)\n",
    "    solution=Array[]\n",
    "    push!(solution, initial_state)\n",
    "    next=copy(initial_state)\n",
    "    while !goal_reach(next)\n",
    "        next_level=expand_state(next)\n",
    "        next=[]\n",
    "        \n",
    "        for child in next_level\n",
    "            if !(child in solution)\n",
    "                next=child\n",
    "                push!(solution,next)\n",
    "                break\n",
    "            end\n",
    "        end\n",
    "    end\n",
    "    \n",
    "    return solution\n",
    "end"
   ]
  },
  {
   "cell_type": "code",
   "execution_count": 80,
   "metadata": {},
   "outputs": [
    {
     "data": {
      "text/plain": [
       "print_solution (generic function with 1 method)"
      ]
     },
     "execution_count": 80,
     "metadata": {},
     "output_type": "execute_result"
    }
   ],
   "source": [
    "function print_solution(solution)\n",
    "    mapping=[\"left\", \"right\"]\n",
    "    \n",
    "    println(\"Solution: \")\n",
    "    for sol in solution\n",
    "        str=string(\"[Man: \", mapping[sol[1]+1], \", Goat: \", mapping[sol[2]+1], \", Wolf: \", mapping[sol[3]+1], \", Cabbage: \", mapping[sol[4]+1],\"]\")\n",
    "        println(str)\n",
    "    end\n",
    "end"
   ]
  },
  {
   "cell_type": "code",
   "execution_count": 81,
   "metadata": {},
   "outputs": [
    {
     "name": "stdout",
     "output_type": "stream",
     "text": [
      "Solution: \n",
      "[Man: left, Goat: left, Wolf: left, Cabbage: left]\n",
      "[Man: right, Goat: right, Wolf: left, Cabbage: left]\n",
      "[Man: left, Goat: right, Wolf: left, Cabbage: left]\n",
      "[Man: right, Goat: right, Wolf: right, Cabbage: left]\n",
      "[Man: left, Goat: left, Wolf: right, Cabbage: left]\n",
      "[Man: right, Goat: left, Wolf: right, Cabbage: right]\n",
      "[Man: left, Goat: left, Wolf: right, Cabbage: right]\n",
      "[Man: right, Goat: right, Wolf: right, Cabbage: right]\n"
     ]
    }
   ],
   "source": [
    "initial_state=[0,0,0,0] #Order=[Man, Goat, Wolf, Cabbage], 0=>left_side, 1=>right_side\n",
    "\n",
    "solution = solution_path(initial_state)\n",
    "\n",
    "print_solution(solution)"
   ]
  }
 ],
 "metadata": {
  "kernelspec": {
   "display_name": "Julia 0.6.0",
   "language": "julia",
   "name": "julia-0.6"
  },
  "language_info": {
   "file_extension": ".jl",
   "mimetype": "application/julia",
   "name": "julia",
   "version": "0.6.0"
  }
 },
 "nbformat": 4,
 "nbformat_minor": 2
}
