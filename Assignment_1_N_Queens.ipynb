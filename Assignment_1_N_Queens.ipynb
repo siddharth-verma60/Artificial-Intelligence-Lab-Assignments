{
 "cells": [
  {
   "cell_type": "markdown",
   "metadata": {},
   "source": [
    "### The 8-Queens Problem\n",
    "For this programming assignment, we will construct a search algorithm that solves the 8-queens problem. Our algorithm should use uninformed depth-first search. This function should return a list of lists. Each element in the returned list should be a list containing the position (row-number and column-number) of one of the queens. Number the rows and columns from 1 to 8 (not from 0 to 7).\n",
    "\n",
    "For the assignment, your program should print out the final solution. The final solution should look something like this:\n",
    "\t\t\t******Q*\n",
    "\t\t\t*Q******\n",
    "\t\t\t****Q***\n",
    "\t\t\t*******Q\n",
    "\t\t\t*****Q**\n",
    "\t\t\t***Q****\n",
    "\t\t\t**Q*****\n",
    "\t\t\tQ*******\n",
    "            "
   ]
  },
  {
   "cell_type": "code",
   "execution_count": 123,
   "metadata": {},
   "outputs": [
    {
     "data": {
      "text/plain": [
       "N_Queens_DFS (generic function with 1 method)"
      ]
     },
     "execution_count": 123,
     "metadata": {},
     "output_type": "execute_result"
    }
   ],
   "source": [
    "# Type for defining position of queen(row,col)\n",
    "type position\n",
    "    row::Int64\n",
    "    col::Int64\n",
    "end\n",
    "\n",
    "#= Uninformed Depth First Search method to solve N-Queens\n",
    "    N = No. of rows and columns\n",
    "    row = current row we are setting queen in\n",
    "    positions = Array of type position. Contains N no. of position types.\n",
    "=#\n",
    "function N_Queens_DFS(N, row, positions)\n",
    "    \n",
    "    # Base Case\n",
    "    if row==N+1\n",
    "        return true\n",
    "    end\n",
    "        \n",
    "    for col in 1:N\n",
    "        # Tells if the current cell is safe to keep the queen to avoid attacks\n",
    "        isSafe=true\n",
    "        \n",
    "        i=1\n",
    "        while i<row\n",
    "            queen=positions[i]\n",
    "            # Checking the diagonals, columns and rows on the board if they are safe from attack\n",
    "            if queen.row==row || queen.col==col || queen.row-queen.col==row-col || queen.row+queen.col==row+col\n",
    "                isSafe=false # if current cell is found unsafe.\n",
    "                break\n",
    "            end\n",
    "            i+=1\n",
    "        end\n",
    "            \n",
    "        if isSafe\n",
    "            positions[row]=position(row, col) # Add the current safe cell\n",
    "            if N_Queens_DFS(N, row+1, positions) # DFS Call\n",
    "                return true\n",
    "            end\n",
    "        end\n",
    "    end\n",
    "        \n",
    "    return false\n",
    "end"
   ]
  },
  {
   "cell_type": "code",
   "execution_count": 128,
   "metadata": {},
   "outputs": [
    {
     "data": {
      "text/plain": [
       "displaySolution (generic function with 1 method)"
      ]
     },
     "execution_count": 128,
     "metadata": {},
     "output_type": "execute_result"
    }
   ],
   "source": [
    "# Function to display the final solution\n",
    "function displaySolution(N, positions)\n",
    "\n",
    "    solutionBoard=Array{Char}(N,N)\n",
    "    for i in 1:N\n",
    "        for j in 1:N\n",
    "            solutionBoard[i,j]='*'\n",
    "        end\n",
    "    end\n",
    "    \n",
    "    for pos in positions\n",
    "        solutionBoard[pos.row, pos.col]='Q'\n",
    "    end\n",
    "    \n",
    "    println(\"Solution:\")\n",
    "    println()\n",
    "    for i in 1:N\n",
    "        for j in 1:N\n",
    "            print(solutionBoard[i,j])\n",
    "        end\n",
    "        println()\n",
    "    end\n",
    "end"
   ]
  },
  {
   "cell_type": "code",
   "execution_count": 129,
   "metadata": {},
   "outputs": [
    {
     "name": "stdout",
     "output_type": "stream",
     "text": [
      "Solution:\n",
      "\n",
      "Q*******************\n",
      "**Q*****************\n",
      "****Q***************\n",
      "*Q******************\n",
      "***Q****************\n",
      "************Q*******\n",
      "**************Q*****\n",
      "***********Q********\n",
      "*****************Q**\n",
      "*******************Q\n",
      "****************Q***\n",
      "********Q***********\n",
      "***************Q****\n",
      "******************Q*\n",
      "*******Q************\n",
      "*********Q**********\n",
      "******Q*************\n",
      "*************Q******\n",
      "*****Q**************\n",
      "**********Q*********\n"
     ]
    }
   ],
   "source": [
    "N=20\n",
    "positions = Array{position}(N)\n",
    "\n",
    "answer=N_Queens_DFS(N,1,positions)\n",
    "displaySolution(N, positions)"
   ]
  },
  {
   "cell_type": "code",
   "execution_count": null,
   "metadata": {},
   "outputs": [],
   "source": []
  }
 ],
 "metadata": {
  "kernelspec": {
   "display_name": "Julia 0.6.0",
   "language": "julia",
   "name": "julia-0.6"
  },
  "language_info": {
   "file_extension": ".jl",
   "mimetype": "application/julia",
   "name": "julia",
   "version": "0.6.0"
  }
 },
 "nbformat": 4,
 "nbformat_minor": 2
}
